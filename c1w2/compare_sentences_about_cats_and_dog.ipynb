{
 "cells": [
  {
   "cell_type": "markdown",
   "metadata": {},
   "source": [
    "### Задача 1: сравнение предложений  \n",
    "\n",
    "Дан набор предложений, скопированных с Википедии. Каждое из них имеет \"кошачью тему\" в одном из трех смыслов:\n",
    "\n",
    "* кошки (животные)  \n",
    "* UNIX-утилита cat для вывода содержимого файлов  \n",
    "* версии операционной системы OS X, названные в честь семейства кошачьих  \n",
    "\n",
    "Ваша задача — найти два предложения, которые ближе всего по смыслу к расположенному в самой первой строке. В качестве меры близости по смыслу мы будем использовать косинусное расстояние."
   ]
  },
  {
   "cell_type": "markdown",
   "metadata": {},
   "source": [
    "Выполните следующие шаги:  \n",
    "* 1. Скачайте файл с предложениями (sentences.txt).\n",
    "* 2. Каждая строка в файле соответствует одному предложению. Считайте их, приведите каждую к нижнему регистру с помощью строковой функции lower()."
   ]
  },
  {
   "cell_type": "code",
   "execution_count": 259,
   "metadata": {},
   "outputs": [],
   "source": [
    "file_obj = open('sentences.txt', 'r')"
   ]
  },
  {
   "cell_type": "code",
   "execution_count": 260,
   "metadata": {},
   "outputs": [],
   "source": [
    "sentences_list = []\n",
    "\n",
    "for line in file_obj.readlines():\n",
    "    sentences_list.append(line.strip().lower())\n",
    "    \n",
    "file_obj.close()    "
   ]
  },
  {
   "cell_type": "markdown",
   "metadata": {},
   "source": [
    "* Произведите токенизацию, то есть разбиение текстов на слова. Для этого можно воспользоваться регулярным выражением, которое считает разделителем любой символ, не являющийся буквой: re.split('[^a-z]', t). Не забудьте удалить пустые слова после разделения."
   ]
  },
  {
   "cell_type": "code",
   "execution_count": 261,
   "metadata": {},
   "outputs": [],
   "source": [
    "import re\n",
    "\n",
    "words_list = []\n",
    "for line in sentences_list:    \n",
    "    for word in re.split('[^a-z]', line):\n",
    "        if word != '':\n",
    "            words_list.append(word)"
   ]
  },
  {
   "cell_type": "markdown",
   "metadata": {},
   "source": [
    "* Составьте список всех слов, встречающихся в предложениях. Сопоставьте каждому слову индекс от нуля до (d - 1), где d — число различных слов в предложениях. Для этого удобно воспользоваться структурой dict."
   ]
  },
  {
   "cell_type": "code",
   "execution_count": 262,
   "metadata": {},
   "outputs": [],
   "source": [
    "words_set = set(words_list)\n",
    "words_index = dict()\n",
    "i = 0\n",
    "\n",
    "for word in words_set:\n",
    "    words_index[i] = word\n",
    "    i = i + 1\n",
    "    "
   ]
  },
  {
   "cell_type": "markdown",
   "metadata": {},
   "source": [
    "* Создайте матрицу размера n * d, где n — число предложений. Заполните ее: элемент с индексом (i, j) в этой матрице должен быть равен количеству вхождений j-го слова в i-е предложение. У вас должна получиться матрица размера 22 * 254."
   ]
  },
  {
   "cell_type": "code",
   "execution_count": 263,
   "metadata": {},
   "outputs": [
    {
     "name": "stdout",
     "output_type": "stream",
     "text": [
      "(22, 254)\n"
     ]
    },
    {
     "data": {
      "text/plain": [
       "array([[0, 0, 0, ..., 1, 0, 0],\n",
       "       [0, 0, 0, ..., 0, 0, 0],\n",
       "       [0, 0, 0, ..., 1, 0, 0],\n",
       "       ...,\n",
       "       [0, 0, 0, ..., 2, 0, 0],\n",
       "       [0, 0, 0, ..., 1, 0, 0],\n",
       "       [0, 0, 0, ..., 1, 0, 0]])"
      ]
     },
     "execution_count": 263,
     "metadata": {},
     "output_type": "execute_result"
    }
   ],
   "source": [
    "import numpy as np\n",
    "words_matrix = np.zeros((len(sentences_list),len(words_set)), dtype = int)\n",
    "print words_matrix.shape\n",
    "\n",
    "words_in_sentences = list()\n",
    "for line in sentences_list:\n",
    "    words_in_sentences.append( re.split('[^a-z]', line) )\n",
    "\n",
    "for i in range(0, len(sentences_list)):\n",
    "    for j in range(0, len(words_set)):\n",
    "        for w in words_in_sentences[i]:\n",
    "            if w == words_index[j]:\n",
    "                words_matrix[i,j] = words_matrix[i, j] + 1\n",
    "words_matrix                "
   ]
  },
  {
   "cell_type": "markdown",
   "metadata": {},
   "source": [
    "* Найдите косинусное расстояние от предложения в самой первой строке (In comparison to dogs, cats have not undergone...) до всех остальных с помощью функции scipy.spatial.distance.cosine. Какие номера у двух предложений, ближайших к нему по этому расстоянию (строки нумеруются с нуля)? Эти два числа и будут ответами на задание. Само предложение (In comparison to dogs, cats have not undergone... ) имеет индекс 0."
   ]
  },
  {
   "cell_type": "code",
   "execution_count": 287,
   "metadata": {},
   "outputs": [
    {
     "name": "stdout",
     "output_type": "stream",
     "text": [
      "0.0\n",
      "0.9527544408738466\n",
      "0.8644738145642124\n",
      "0.8951715163278082\n",
      "0.7770887149698589\n",
      "0.9402385695332803\n",
      "0.7327387580875756\n",
      "0.9258750683338899\n",
      "0.8842724875284311\n",
      "0.9055088817476932\n",
      "0.8328165362273942\n",
      "0.8804771390665607\n",
      "0.8396432548525454\n",
      "0.8703592552895671\n",
      "0.8740118423302576\n",
      "0.9442721787424647\n",
      "0.8406361854220809\n",
      "0.956644501523794\n",
      "0.9442721787424647\n",
      "0.8885443574849294\n",
      "0.8427572744917122\n",
      "0.8250364469440588\n",
      "\n",
      "0.7327387580875756\n",
      "6\n",
      "0.7770887149698589\n",
      "4\n"
     ]
    }
   ],
   "source": [
    "import scipy.spatial as spatial\n",
    "\n",
    "distance_vector = [spatial.distance.cosine(words_matrix[0, :], words_matrix[0, :])]\n",
    "\n",
    "for i in range(1, len(sentences_list)):\n",
    "    dist = spatial.distance.cosine(words_matrix[0, :], words_matrix[i, :])\n",
    "    distance_vector.append(dist)\n",
    "\n",
    "min_val1 = 1\n",
    "min_idx1 = 0\n",
    "for d in range(1, len(distance_vector)):\n",
    "    if distance_vector[d] < min_val1:\n",
    "        min_val1 = distance_vector[d]\n",
    "        min_idx1 = d\n",
    "        \n",
    "min_val2 = 1\n",
    "min_idx2 = 0\n",
    "for d in range(1, len(distance_vector)):\n",
    "    if d == min_idx1:\n",
    "        continue\n",
    "    if distance_vector[d] < min_val2:\n",
    "        min_val2 = distance_vector[d]\n",
    "        min_idx2 = d\n",
    "\n",
    "    \n",
    "for p in distance_vector:\n",
    "    print p\n",
    "print \"\"    \n",
    "print min_val1\n",
    "print min_idx1\n",
    "print min_val2\n",
    "print min_idx2"
   ]
  },
  {
   "cell_type": "markdown",
   "metadata": {},
   "source": [
    "* Запишите полученные числа в файл, разделив пробелом. Обратите внимание, что файл должен состоять из одной строки, в конце которой не должно быть переноса. Пример файла с решением вы можете найти в конце задания (submission-1.txt)."
   ]
  },
  {
   "cell_type": "code",
   "execution_count": 290,
   "metadata": {},
   "outputs": [],
   "source": [
    "file_obj = open('submission-1.txt', 'w')\n",
    "string = str(min_val1) + \" \" + str(min_val2)\n",
    "file_obj.write(string)\n",
    "file_obj.close()"
   ]
  },
  {
   "cell_type": "code",
   "execution_count": null,
   "metadata": {},
   "outputs": [],
   "source": []
  }
 ],
 "metadata": {
  "kernelspec": {
   "display_name": "Python 2",
   "language": "python",
   "name": "python2"
  },
  "language_info": {
   "codemirror_mode": {
    "name": "ipython",
    "version": 2
   },
   "file_extension": ".py",
   "mimetype": "text/x-python",
   "name": "python",
   "nbconvert_exporter": "python",
   "pygments_lexer": "ipython2",
   "version": "2.7.16"
  }
 },
 "nbformat": 4,
 "nbformat_minor": 2
}
