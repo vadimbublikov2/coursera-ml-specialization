{
 "cells": [
  {
   "cell_type": "markdown",
   "metadata": {},
   "source": [
    "### Задача 1: сравнение предложений  \n",
    "\n",
    "Дан набор предложений, скопированных с Википедии. Каждое из них имеет \"кошачью тему\" в одном из трех смыслов:\n",
    "\n",
    "* кошки (животные)  \n",
    "* UNIX-утилита cat для вывода содержимого файлов  \n",
    "* версии операционной системы OS X, названные в честь семейства кошачьих  \n",
    "\n",
    "Ваша задача — найти два предложения, которые ближе всего по смыслу к расположенному в самой первой строке. В качестве меры близости по смыслу мы будем использовать косинусное расстояние."
   ]
  },
  {
   "cell_type": "markdown",
   "metadata": {},
   "source": [
    "Выполните следующие шаги:  \n",
    "* 1. Скачайте файл с предложениями (sentences.txt).\n",
    "* 2. Каждая строка в файле соответствует одному предложению. Считайте их, приведите каждую к нижнему регистру с помощью строковой функции lower()."
   ]
  },
  {
   "cell_type": "code",
   "execution_count": 1,
   "metadata": {
    "collapsed": true
   },
   "outputs": [],
   "source": [
    "file_obj = open('sentences.txt', 'r')"
   ]
  },
  {
   "cell_type": "code",
   "execution_count": 2,
   "metadata": {
    "collapsed": true
   },
   "outputs": [],
   "source": [
    "sentences_list = []\n",
    "\n",
    "for line in file_obj.readlines():\n",
    "    sentences_list.append(line.strip().lower())\n",
    "    \n",
    "file_obj.close()    "
   ]
  },
  {
   "cell_type": "markdown",
   "metadata": {},
   "source": [
    "* Произведите токенизацию, то есть разбиение текстов на слова. Для этого можно воспользоваться регулярным выражением, которое считает разделителем любой символ, не являющийся буквой: re.split('[^a-z]', t). Не забудьте удалить пустые слова после разделения."
   ]
  },
  {
   "cell_type": "code",
   "execution_count": 3,
   "metadata": {
    "collapsed": true
   },
   "outputs": [],
   "source": [
    "import re\n",
    "\n",
    "words_list = []\n",
    "for line in sentences_list:    \n",
    "    for word in re.split('[^a-z]', line):\n",
    "        if word != '':\n",
    "            words_list.append(word)"
   ]
  },
  {
   "cell_type": "markdown",
   "metadata": {},
   "source": [
    "* Составьте список всех слов, встречающихся в предложениях. Сопоставьте каждому слову индекс от нуля до (d - 1), где d — число различных слов в предложениях. Для этого удобно воспользоваться структурой dict."
   ]
  },
  {
   "cell_type": "code",
   "execution_count": 4,
   "metadata": {
    "collapsed": true
   },
   "outputs": [],
   "source": [
    "words_set = set(words_list)\n",
    "words_index = dict()\n",
    "i = 0\n",
    "\n",
    "for word in words_set:\n",
    "    words_index[i] = word\n",
    "    i = i + 1\n",
    "    "
   ]
  },
  {
   "cell_type": "markdown",
   "metadata": {},
   "source": [
    "* Создайте матрицу размера n * d, где n — число предложений. Заполните ее: элемент с индексом (i, j) в этой матрице должен быть равен количеству вхождений j-го слова в i-е предложение. У вас должна получиться матрица размера 22 * 254."
   ]
  },
  {
   "cell_type": "code",
   "execution_count": 5,
   "metadata": {},
   "outputs": [
    {
     "name": "stdout",
     "output_type": "stream",
     "text": [
      "(22L, 254L)\n"
     ]
    },
    {
     "data": {
      "text/plain": [
       "array([[0, 0, 0, ..., 1, 0, 0],\n",
       "       [0, 0, 0, ..., 0, 0, 0],\n",
       "       [0, 0, 0, ..., 1, 0, 0],\n",
       "       ..., \n",
       "       [0, 0, 0, ..., 2, 0, 0],\n",
       "       [0, 0, 0, ..., 1, 0, 0],\n",
       "       [0, 0, 0, ..., 1, 0, 0]])"
      ]
     },
     "execution_count": 5,
     "metadata": {},
     "output_type": "execute_result"
    }
   ],
   "source": [
    "import numpy as np\n",
    "words_matrix = np.zeros((len(sentences_list),len(words_set)), dtype = int)\n",
    "print words_matrix.shape\n",
    "\n",
    "words_in_sentences = list()\n",
    "for line in sentences_list:\n",
    "    words_in_sentences.append( re.split('[^a-z]', line) )\n",
    "\n",
    "for i in range(0, len(sentences_list)):\n",
    "    for j in range(0, len(words_set)):\n",
    "        for w in words_in_sentences[i]:\n",
    "            if w == words_index[j]:\n",
    "                words_matrix[i,j] = words_matrix[i, j] + 1\n",
    "words_matrix                "
   ]
  },
  {
   "cell_type": "markdown",
   "metadata": {},
   "source": [
    "* Найдите косинусное расстояние от предложения в самой первой строке (In comparison to dogs, cats have not undergone...) до всех остальных с помощью функции scipy.spatial.distance.cosine. Какие номера у двух предложений, ближайших к нему по этому расстоянию (строки нумеруются с нуля)? Эти два числа и будут ответами на задание. Само предложение (In comparison to dogs, cats have not undergone... ) имеет индекс 0."
   ]
  },
  {
   "cell_type": "code",
   "execution_count": 6,
   "metadata": {},
   "outputs": [
    {
     "name": "stdout",
     "output_type": "stream",
     "text": [
      "0.0\n",
      "0.952754440874\n",
      "0.864473814564\n",
      "0.895171516328\n",
      "0.77708871497\n",
      "0.940238569533\n",
      "0.732738758088\n",
      "0.925875068334\n",
      "0.884272487528\n",
      "0.905508881748\n",
      "0.832816536227\n",
      "0.880477139067\n",
      "0.839643254853\n",
      "0.87035925529\n",
      "0.87401184233\n",
      "0.944272178742\n",
      "0.840636185422\n",
      "0.956644501524\n",
      "0.944272178742\n",
      "0.888544357485\n",
      "0.842757274492\n",
      "0.825036446944\n",
      "\n",
      "0.732738758088\n",
      "6\n",
      "0.77708871497\n",
      "4\n"
     ]
    }
   ],
   "source": [
    "import scipy.spatial as spatial\n",
    "\n",
    "distance_vector = [spatial.distance.cosine(words_matrix[0, :], words_matrix[0, :])]\n",
    "\n",
    "for i in range(1, len(sentences_list)):\n",
    "    dist = spatial.distance.cosine(words_matrix[0, :], words_matrix[i, :])\n",
    "    distance_vector.append(dist)\n",
    "\n",
    "min_val1 = 1\n",
    "min_idx1 = 0\n",
    "for d in range(1, len(distance_vector)):\n",
    "    if distance_vector[d] < min_val1:\n",
    "        min_val1 = distance_vector[d]\n",
    "        min_idx1 = d\n",
    "        \n",
    "min_val2 = 1\n",
    "min_idx2 = 0\n",
    "for d in range(1, len(distance_vector)):\n",
    "    if d == min_idx1:\n",
    "        continue\n",
    "    if distance_vector[d] < min_val2:\n",
    "        min_val2 = distance_vector[d]\n",
    "        min_idx2 = d\n",
    "\n",
    "    \n",
    "for p in distance_vector:\n",
    "    print p\n",
    "print \"\"    \n",
    "print min_val1\n",
    "print min_idx1\n",
    "print min_val2\n",
    "print min_idx2"
   ]
  },
  {
   "cell_type": "markdown",
   "metadata": {},
   "source": [
    "* Запишите полученные числа в файл, разделив пробелом. Обратите внимание, что файл должен состоять из одной строки, в конце которой не должно быть переноса. Пример файла с решением вы можете найти в конце задания (submission-1.txt)."
   ]
  },
  {
   "cell_type": "code",
   "execution_count": 7,
   "metadata": {
    "collapsed": true
   },
   "outputs": [],
   "source": [
    "file_obj = open('submission-1.txt', 'w')\n",
    "string = str(min_idx1) + \" \" + str(min_idx2)\n",
    "file_obj.write(string)\n",
    "file_obj.close()"
   ]
  },
  {
   "cell_type": "code",
   "execution_count": 8,
   "metadata": {},
   "outputs": [
    {
     "name": "stdout",
     "output_type": "stream",
     "text": [
      "6 4\n"
     ]
    }
   ],
   "source": [
    "!more \"submission-1.txt\""
   ]
  },
  {
   "cell_type": "code",
   "execution_count": null,
   "metadata": {
    "collapsed": true
   },
   "outputs": [],
   "source": []
  },
  {
   "cell_type": "code",
   "execution_count": null,
   "metadata": {
    "collapsed": true
   },
   "outputs": [],
   "source": []
  }
 ],
 "metadata": {
  "kernelspec": {
   "display_name": "Python 2",
   "language": "python",
   "name": "python2"
  },
  "language_info": {
   "codemirror_mode": {
    "name": "ipython",
    "version": 2
   },
   "file_extension": ".py",
   "mimetype": "text/x-python",
   "name": "python",
   "nbconvert_exporter": "python",
   "pygments_lexer": "ipython2",
   "version": "2.7.13"
  }
 },
 "nbformat": 4,
 "nbformat_minor": 2
}
