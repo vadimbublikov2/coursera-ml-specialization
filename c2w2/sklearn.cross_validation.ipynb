{
 "cells": [
  {
   "cell_type": "markdown",
   "metadata": {},
   "source": [
    "# Sklearn"
   ]
  },
  {
   "cell_type": "markdown",
   "metadata": {},
   "source": [
    "## sklearn.model_selection"
   ]
  },
  {
   "cell_type": "markdown",
   "metadata": {},
   "source": [
    "документация: http://scikit-learn.org/stable/modules/cross_validation.html"
   ]
  },
  {
   "cell_type": "code",
   "execution_count": 1,
   "metadata": {
    "collapsed": true
   },
   "outputs": [],
   "source": [
    "from sklearn import model_selection, datasets\n",
    "\n",
    "import numpy as np"
   ]
  },
  {
   "cell_type": "markdown",
   "metadata": {},
   "source": [
    "### Разовое разбиение данных на обучение и тест с помощью train_test_split"
   ]
  },
  {
   "cell_type": "code",
   "execution_count": 2,
   "metadata": {
    "collapsed": true
   },
   "outputs": [],
   "source": [
    "iris = datasets.load_iris()"
   ]
  },
  {
   "cell_type": "code",
   "execution_count": 3,
   "metadata": {
    "collapsed": true
   },
   "outputs": [],
   "source": [
    "train_data, test_data, train_labels, test_labels = model_selection.train_test_split(iris.data, iris.target, \n",
    "                                                                                     test_size = 0.3)"
   ]
  },
  {
   "cell_type": "code",
   "execution_count": 4,
   "metadata": {},
   "outputs": [
    {
     "name": "stdout",
     "output_type": "stream",
     "text": [
      "[0 2 2 0 0 0 2 1 1 0 2 2 2 1 0 1 0 0 1 2 2 1 1 2 1 0 1 0 0 1 1 0 0 1 1 0 0\n",
      " 2 0 1 1 0 0 0 2]\n"
     ]
    }
   ],
   "source": [
    "print test_labels"
   ]
  },
  {
   "cell_type": "code",
   "execution_count": 5,
   "metadata": {},
   "outputs": [
    {
     "data": {
      "text/plain": [
       "0.3"
      ]
     },
     "execution_count": 5,
     "metadata": {},
     "output_type": "execute_result"
    }
   ],
   "source": [
    "#убедимся, что тестовая выборка действительно составляет 0.3 от всех данных\n",
    "float(len(test_labels))/len(iris.data)"
   ]
  },
  {
   "cell_type": "code",
   "execution_count": 6,
   "metadata": {},
   "outputs": [
    {
     "name": "stdout",
     "output_type": "stream",
     "text": [
      "Размер обучающей выборки: 105 объектов \n",
      "Размер тестовой выборки: 45 объектов\n"
     ]
    }
   ],
   "source": [
    "print 'Размер обучающей выборки: {} объектов \\nРазмер тестовой выборки: {} объектов'.format(len(train_data),\n",
    "                                                                                            len(test_data))"
   ]
  },
  {
   "cell_type": "code",
   "execution_count": 7,
   "metadata": {},
   "outputs": [
    {
     "name": "stdout",
     "output_type": "stream",
     "text": [
      "Обучающая выборка:\n",
      "[[ 5.7  2.5  5.   2. ]\n",
      " [ 6.7  3.3  5.7  2.5]\n",
      " [ 5.1  2.5  3.   1.1]\n",
      " [ 6.4  2.8  5.6  2.1]\n",
      " [ 6.5  3.   5.5  1.8]]\n",
      "\n",
      "\n",
      "Тестовая выборка:\n",
      "[[ 5.4  3.9  1.7  0.4]\n",
      " [ 6.4  3.2  5.3  2.3]\n",
      " [ 7.1  3.   5.9  2.1]\n",
      " [ 5.4  3.4  1.7  0.2]\n",
      " [ 4.8  3.4  1.9  0.2]]\n"
     ]
    }
   ],
   "source": [
    "print 'Обучающая выборка:\\n', train_data[:5]\n",
    "print '\\n'\n",
    "print 'Тестовая выборка:\\n', test_data[:5]"
   ]
  },
  {
   "cell_type": "code",
   "execution_count": 8,
   "metadata": {},
   "outputs": [
    {
     "name": "stdout",
     "output_type": "stream",
     "text": [
      "Метки классов на обучающей выборке:\n",
      "[2 2 1 2 2 0 1 1 1 1 2 2 1 1 0 2 2 2 0 2 2 1 1 0 2 0 2 0 1 1 0 1 0 2 2 0 1\n",
      " 2 1 2 1 1 2 1 1 1 2 2 1 1 0 0 2 0 1 1 0 2 2 2 1 2 0 1 0 0 1 2 0 2 1 1 1 2\n",
      " 0 1 2 1 2 2 0 0 0 0 2 1 0 0 1 2 0 2 0 0 2 0 2 1 1 2 0 0 2 2 0]\n",
      "\n",
      "\n",
      "Метки классов на тестовой выборке:\n",
      "[0 2 2 0 0 0 2 1 1 0 2 2 2 1 0 1 0 0 1 2 2 1 1 2 1 0 1 0 0 1 1 0 0 1 1 0 0\n",
      " 2 0 1 1 0 0 0 2]\n"
     ]
    }
   ],
   "source": [
    "print 'Метки классов на обучающей выборке:\\n', train_labels\n",
    "print '\\n'\n",
    "print 'Метки классов на тестовой выборке:\\n', test_labels"
   ]
  },
  {
   "cell_type": "markdown",
   "metadata": {},
   "source": [
    "### Стратегии проведения кросс-валидации"
   ]
  },
  {
   "cell_type": "code",
   "execution_count": 9,
   "metadata": {
    "collapsed": true
   },
   "outputs": [],
   "source": [
    "#сгенерируем короткое подобие датасета, где элементы совпадают с порядковым номером\n",
    "X = range(0,10)"
   ]
  },
  {
   "cell_type": "markdown",
   "metadata": {},
   "source": [
    "#### KFold"
   ]
  },
  {
   "cell_type": "code",
   "execution_count": 10,
   "metadata": {},
   "outputs": [
    {
     "name": "stdout",
     "output_type": "stream",
     "text": [
      "[2 3 4 5 6 7 8 9] [0 1]\n",
      "[0 1 4 5 6 7 8 9] [2 3]\n",
      "[0 1 2 3 6 7 8 9] [4 5]\n",
      "[0 1 2 3 4 5 8 9] [6 7]\n",
      "[0 1 2 3 4 5 6 7] [8 9]\n"
     ]
    }
   ],
   "source": [
    "kf = model_selection.KFold(n_splits = 5)\n",
    "for train_indices, test_indices in kf.split(X):\n",
    "    print train_indices, test_indices"
   ]
  },
  {
   "cell_type": "code",
   "execution_count": 11,
   "metadata": {},
   "outputs": [
    {
     "name": "stdout",
     "output_type": "stream",
     "text": [
      "[0 3 4 5 9] [1 2 6 7 8]\n",
      "[1 2 6 7 8] [0 3 4 5 9]\n"
     ]
    }
   ],
   "source": [
    "kf = model_selection.KFold(n_splits = 2, shuffle = True)\n",
    "for train_indices, test_indices in kf.split(X):\n",
    "    print train_indices, test_indices"
   ]
  },
  {
   "cell_type": "code",
   "execution_count": 12,
   "metadata": {},
   "outputs": [
    {
     "name": "stdout",
     "output_type": "stream",
     "text": [
      "[1 3 5 7 8] [0 2 4 6 9]\n",
      "[0 2 4 6 9] [1 3 5 7 8]\n"
     ]
    }
   ],
   "source": [
    "kf = model_selection.KFold(n_splits = 2, shuffle = True, random_state = 1)\n",
    "for train_indices, test_indices in kf.split(X):\n",
    "    print train_indices, test_indices"
   ]
  },
  {
   "cell_type": "markdown",
   "metadata": {},
   "source": [
    "#### StratifiedKFold"
   ]
  },
  {
   "cell_type": "code",
   "execution_count": 13,
   "metadata": {},
   "outputs": [
    {
     "name": "stdout",
     "output_type": "stream",
     "text": [
      "[0 0 0 0 0 1 1 1 1 1]\n",
      "[3 4 8 9] [0 1 2 5 6 7]\n",
      "[0 1 2 5 6 7] [3 4 8 9]\n"
     ]
    }
   ],
   "source": [
    "y = np.array([0] * 5 + [1] * 5)\n",
    "print y\n",
    "\n",
    "skf = model_selection.StratifiedKFold(n_splits = 2, shuffle = True, random_state = 0)\n",
    "for train_indices, test_indices in skf.split(X, y):\n",
    "    print train_indices, test_indices"
   ]
  },
  {
   "cell_type": "code",
   "execution_count": 14,
   "metadata": {},
   "outputs": [
    {
     "name": "stdout",
     "output_type": "stream",
     "text": [
      "[0 1 0 1 0 1 0 1 0 1]\n",
      "[3 4 8 9] [0 1 2 5 6 7]\n",
      "[0 1 2 5 6 7] [3 4 8 9]\n"
     ]
    }
   ],
   "source": [
    "target = np.array([0, 1] * 5)\n",
    "print target\n",
    "\n",
    "skf = model_selection.StratifiedKFold(n_splits = 2,shuffle = True)\n",
    "for train_indices, test_indices in skf.split(X, target):\n",
    "    print train_indices, test_indices"
   ]
  },
  {
   "cell_type": "markdown",
   "metadata": {},
   "source": [
    "#### ShuffleSplit"
   ]
  },
  {
   "cell_type": "code",
   "execution_count": 20,
   "metadata": {},
   "outputs": [
    {
     "name": "stdout",
     "output_type": "stream",
     "text": [
      "[42  5 40  8 43  1 14 29 17  0 12 26  7 10  2  9 13 46  3 24  6 48 30 27 19\n",
      " 36 35 47 20 44 31 18 23 25 37 49 41 21 28 32] [39 22  4 38 33 45 11 15 34 16]\n",
      "[23 40 39 41 17 24 48 32 20  9 49 29 21  6  3 46 31 12 26 25 35 18 47 36 11\n",
      "  1 43  4 22 30 44 34 45  2 19 13 15 14 33 42] [37 10 38  8  5 28  0  7 27 16]\n",
      "[ 2 26 14 22 27  6 18 40 29 41 49 25 44 48 39 32 33 46  5 31  0 30 45 12 19\n",
      "  9  8 10 34 42 21 24 47 36 13 20 17 35  4 23] [16 15  7 11 37 38  3 43  1 28]\n",
      "[45  5 28 40 42  6 12  3 35  9 36 27 15 32 13 29 22 16 43  0 21 24 34  8 31\n",
      " 44  2 38 10 39  7 25 14 17  1 48 49  4 23 19] [11 26 33 37 20 30 18 41 47 46]\n",
      "[29  1 14 25 32 13 16 28 40  4  6 49 36 43 24 34 23 41  3  7  9 46 15 39 33\n",
      "  8 18 27 42 30 11 31 44  2 21 48 19 45 38 37] [17 10 35 22  5 20  0 26 47 12]\n",
      "[28 30 40 26 37 31  4 42  7 34  0 10 49 18 21 19 24  2 22 25 45 46 32 23 39\n",
      " 47  6 43 11 38 29  1 13 17 20  3 48 16 33  9] [35 12  5 27 41 14 44 36  8 15]\n",
      "[22  7 48 11 32 44 28 23 15 35 26 13 12 30  5 33  4 16  2 14 43 34 36 24  9\n",
      " 25 46 45  6 47  3 31 42 37 20 21 29 27 38 49] [40 10 17 19 18  8  1  0 41 39]\n",
      "[23  6 22 19 36 21 16 28 34 27 37 17 18 12 14 25 41 39  2  5  3 43 33 46  1\n",
      " 40  0  9 11 45 26  4 10 38 15 31 30 48 35 13] [47  7 20 29 42 32 49 24 44  8]\n",
      "[31 38 13 39  9  1 26 45 24 17  7  8 40 34 15  3 12 49 22 42 20 33  2 44  0\n",
      " 11 47 41 46  5 48 29 32 36 14 25 10  6 28 37] [35  4 30 27 23 18 43 16 19 21]\n",
      "[ 8  5 21 44 36 18 37  1 13 11 28 24 43 33 10 45 17 39 35  3  4 29 30 41 16\n",
      "  6 46 48 20  0 12 47  7 19 27  9 26  2 38 14] [31 15 22 25 23 40 42 32 49 34]\n"
     ]
    }
   ],
   "source": [
    "X = range(0,50)\n",
    "ss = model_selection.ShuffleSplit(n_splits = 10, test_size = 10)\n",
    "\n",
    "for train_indices, test_indices in ss.split(X):\n",
    "    print train_indices, test_indices"
   ]
  },
  {
   "cell_type": "markdown",
   "metadata": {},
   "source": [
    "#### StratifiedShuffleSplit"
   ]
  },
  {
   "cell_type": "code",
   "execution_count": null,
   "metadata": {
    "collapsed": true
   },
   "outputs": [],
   "source": [
    "target = np.array([0] * 5 + [1] * 5)\n",
    "print target\n",
    "\n",
    "sss = model_selection.StratifiedShuffleSplit(n_splits = 4, test_size = 0.2)\n",
    "for train_indices, test_indices in sss.split(X, target):\n",
    "    print train_indices, test_indices"
   ]
  },
  {
   "cell_type": "markdown",
   "metadata": {},
   "source": [
    "#### Leave-One-Out"
   ]
  },
  {
   "cell_type": "code",
   "execution_count": 25,
   "metadata": {},
   "outputs": [
    {
     "name": "stdout",
     "output_type": "stream",
     "text": [
      "[1 2 3 4 5 6 7 8 9] [0]\n",
      "[0 2 3 4 5 6 7 8 9] [1]\n",
      "[0 1 3 4 5 6 7 8 9] [2]\n",
      "[0 1 2 4 5 6 7 8 9] [3]\n",
      "[0 1 2 3 5 6 7 8 9] [4]\n",
      "[0 1 2 3 4 6 7 8 9] [5]\n",
      "[0 1 2 3 4 5 7 8 9] [6]\n",
      "[0 1 2 3 4 5 6 8 9] [7]\n",
      "[0 1 2 3 4 5 6 7 9] [8]\n",
      "[0 1 2 3 4 5 6 7 8] [9]\n"
     ]
    }
   ],
   "source": [
    "loo = model_selection.LeaveOneOut()\n",
    "\n",
    "for train_indices, test_index in loo.split(X):\n",
    "    print train_indices, test_index"
   ]
  },
  {
   "cell_type": "markdown",
   "metadata": {},
   "source": [
    "Больше стратегий проведения кросс-валидации доступно здесь: http://scikit-learn.org/stable/modules/cross_validation.html#cross-validation-iterators"
   ]
  }
 ],
 "metadata": {
  "anaconda-cloud": {},
  "kernelspec": {
   "display_name": "Python 2",
   "language": "python",
   "name": "python2"
  },
  "language_info": {
   "codemirror_mode": {
    "name": "ipython",
    "version": 2
   },
   "file_extension": ".py",
   "mimetype": "text/x-python",
   "name": "python",
   "nbconvert_exporter": "python",
   "pygments_lexer": "ipython2",
   "version": "2.7.13"
  }
 },
 "nbformat": 4,
 "nbformat_minor": 1
}
